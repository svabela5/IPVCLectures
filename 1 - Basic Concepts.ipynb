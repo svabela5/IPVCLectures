{
 "cells": [
  {
   "cell_type": "code",
   "execution_count": 1,
   "metadata": {
    "collapsed": false,
    "pycharm": {
     "name": "#%%\n"
    }
   },
   "outputs": [
    {
     "name": "stdout",
     "output_type": "stream",
     "text": [
      "Welcome to Image Processing and Computer Vision!\n",
      "The condition is true!\n",
      "The condition is true!\n",
      "10\n",
      "Image Processing\n",
      "Image Processing is awesome\n",
      "15\n"
     ]
    }
   ],
   "source": [
    "# This script will help you remember the basics of Python\n",
    "# mostly variables, functions, printing text in the console\n",
    "# Also use this script to practice the breakpoint\n",
    "# and step over...very important debugging tools!\n",
    "\n",
    "print(\"Welcome to Image Processing and Computer Vision!\")\n",
    "\n",
    "#indentation to indicate code blocks\n",
    "if 2 < 4:\n",
    "  print(\"The condition is true!\")\n",
    "\n",
    "#you can use as many spaces as you want, at least 1\n",
    "if 2 < 4:\n",
    "        print(\"The condition is true!\")\n",
    "\n",
    "#no command for just declaring a variable,\n",
    "#and do not need to explicitly specify type\n",
    "x = 10\n",
    "y = \"Image Processing\"\n",
    "print(x)\n",
    "print(y)\n",
    "\n",
    "#single quotes and double quotes both ok for strings\n",
    "#note, no semi-colons end of line (new line marks a new line)\n",
    "x = \"Image Processing\"\n",
    "# is the same as\n",
    "x = 'Image Processing'\n",
    "\n",
    "#you can use + to concatenate 2 strings\n",
    "x = \"awesome\"\n",
    "print(\"Image Processing is \" + x)\n",
    "\n",
    "#or to add 2 numbers\n",
    "x = 5\n",
    "y = 10\n",
    "print(x + y)\n",
    "\n",
    "#but you CAN'T combine a string and a number!"
   ]
  },
  {
   "cell_type": "code",
   "execution_count": 2,
   "metadata": {
    "collapsed": false,
    "pycharm": {
     "name": "#%% functions\n"
    }
   },
   "outputs": [
    {
     "name": "stdout",
     "output_type": "stream",
     "text": [
      "Python is great\n"
     ]
    }
   ],
   "source": [
    "#myfunc is the name, z is the input\n",
    "#not all functions have to return something\n",
    "def myfunc(z):\n",
    "  return \"Python is \"+z\n",
    "\n",
    "#calling the function and displaying result\n",
    "print(myfunc(\"great\"))"
   ]
  },
  {
   "cell_type": "code",
   "execution_count": 3,
   "metadata": {
    "collapsed": false,
    "pycharm": {
     "name": "#%% practice breakpoint and step over\n"
    }
   },
   "outputs": [
    {
     "name": "stdout",
     "output_type": "stream",
     "text": [
      "3\n"
     ]
    }
   ],
   "source": [
    "# Program to generate a random number between 0 and 9\n",
    "# but not 5\n",
    "\n",
    "# importing the random module\n",
    "import random\n",
    "\n",
    "x=5;\n",
    "while x==5:\n",
    "    x = random.randint(0,9)\n",
    "print(x)\n",
    "\n",
    "\n"
   ]
  }
 ],
 "metadata": {
  "kernelspec": {
   "display_name": "ipcv",
   "language": "python",
   "name": "python3"
  },
  "language_info": {
   "codemirror_mode": {
    "name": "ipython",
    "version": 3
   },
   "file_extension": ".py",
   "mimetype": "text/x-python",
   "name": "python",
   "nbconvert_exporter": "python",
   "pygments_lexer": "ipython3",
   "version": "3.12.3"
  }
 },
 "nbformat": 4,
 "nbformat_minor": 0
}

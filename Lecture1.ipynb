{
 "cells": [
  {
   "cell_type": "code",
   "execution_count": 1,
   "id": "244c6bcd",
   "metadata": {},
   "outputs": [
    {
     "name": "stdout",
     "output_type": "stream",
     "text": [
      "My first list\n",
      "[1, 2, 3, 4]\n",
      "My First Matrix\n",
      "[[ 1  2 30  4]\n",
      " [ 8  9 40 15]\n",
      " [ 9 10 50 20]]\n",
      "15\n",
      "My matrix as an image\n"
     ]
    },
    {
     "data": {
      "text/plain": [
       "<matplotlib.image.AxesImage at 0x18b6e424a70>"
      ]
     },
     "execution_count": 1,
     "metadata": {},
     "output_type": "execute_result"
    },
    {
     "data": {
      "image/png": "[encoded data removed]",
      "text/plain": [
       "<Figure size 640x480 with 1 Axes>"
      ]
     },
     "metadata": {},
     "output_type": "display_data"
    }
   ],
   "source": [
    "import numpy as np\n",
    "import matplotlib.pyplot as plt\n",
    "from PIL import Image\n",
    "\n",
    "print('My first list')\n",
    "MyList = ([1,2,3,4])\n",
    "print(MyList)\n",
    "\n",
    "print('My First Matrix')\n",
    "#In numpy we start form the rows\n",
    "MyMatrix = np.array([[1,2,30,4], [8,9,40,15], [9,10,50,20]]) #3 rows 4 cols\n",
    "\n",
    "print(MyMatrix)\n",
    "\n",
    "print(MyMatrix[1,3])\n",
    "\n",
    "print('My matrix as an image')\n",
    "#for colors look to: https://matplotlib.org/stable/users/explain/colors/colormaps.html\n",
    "plt.imshow(MyMatrix, cmap='gray', vmin=0, vmax=255)\n"
   ]
  },
  {
   "cell_type": "code",
   "execution_count": 2,
   "id": "557f3691",
   "metadata": {},
   "outputs": [
    {
     "name": "stdout",
     "output_type": "stream",
     "text": [
      "(10, 10, 3)\n",
      "Matrix type: \n",
      "uint8\n"
     ]
    },
    {
     "name": "stdout",
     "output_type": "stream",
     "text": [
      "[[[121 194 253]\n",
      "  [ 31 199 105]\n",
      "  [ 13 228  37]\n",
      "  [ 87  84 108]\n",
      "  [ 79 155  22]\n",
      "  [ 70  66 155]\n",
      "  [ 68  54 113]\n",
      "  [209 235  10]\n",
      "  [114  97 104]\n",
      "  [ 33 219  75]]\n",
      "\n",
      " [[ 49 171 212]\n",
      "  [195 117 249]\n",
      "  [215  29 202]\n",
      "  [213 104 247]\n",
      "  [  6 188 197]\n",
      "  [231  86 245]\n",
      "  [ 99 196 122]\n",
      "  [214 225 100]\n",
      "  [ 29  81 210]\n",
      "  [200 142 174]]\n",
      "\n",
      " [[ 55 216 228]\n",
      "  [ 95 176 241]\n",
      "  [ 52 251  84]\n",
      "  [ 70 124  39]\n",
      "  [128  96 124]\n",
      "  [219 237  10]\n",
      "  [241 153  27]\n",
      "  [132 193  63]\n",
      "  [194  58  91]\n",
      "  [119 210 187]]\n",
      "\n",
      " [[255 155  52]\n",
      "  [ 72 126 206]\n",
      "  [254 125 161]\n",
      "  [ 45  45  57]\n",
      "  [ 46 130  74]\n",
      "  [138 221  18]\n",
      "  [ 84 139   8]\n",
      "  [ 21  33 151]\n",
      "  [240 147 122]\n",
      "  [241  89  14]]\n",
      "\n",
      " [[253 230 126]\n",
      "  [  7 159 188]\n",
      "  [ 76 211 152]\n",
      "  [154 227 131]\n",
      "  [151 244 198]\n",
      "  [114 138 137]\n",
      "  [205  77  48]\n",
      "  [255 152 110]\n",
      "  [141  92 106]\n",
      "  [143 224  73]]\n",
      "\n",
      " [[190  26  43]\n",
      "  [237   3 196]\n",
      "  [168 182 209]\n",
      "  [199 233 212]\n",
      "  [115  52 242]\n",
      "  [250 148  11]\n",
      "  [163  36 181]\n",
      "  [127 241  74]\n",
      "  [203 181 107]\n",
      "  [181 100 105]]\n",
      "\n",
      " [[132  59 249]\n",
      "  [ 89 134 238]\n",
      "  [172 235 202]\n",
      "  [ 49  76   2]\n",
      "  [233 150 198]\n",
      "  [149 223  89]\n",
      "  [ 20 179  24]\n",
      "  [115  60 101]\n",
      "  [108  92  27]\n",
      "  [183  37 107]]\n",
      "\n",
      " [[198  48 219]\n",
      "  [177 229 167]\n",
      "  [157 193  91]\n",
      "  [ 99 187 156]\n",
      "  [239 103 159]\n",
      "  [215   5 204]\n",
      "  [ 78   7  47]\n",
      "  [131  52 185]\n",
      "  [ 76 190   4]\n",
      "  [ 57 226 193]]\n",
      "\n",
      " [[ 35 115 126]\n",
      "  [ 53 201 162]\n",
      "  [232 189 236]\n",
      "  [ 40  56 121]\n",
      "  [103  45  33]\n",
      "  [187   2  16]\n",
      "  [ 53 213 251]\n",
      "  [ 75  23  90]\n",
      "  [254  10 156]\n",
      "  [ 96  15 156]]\n",
      "\n",
      " [[199  65  41]\n",
      "  [215 100 153]\n",
      "  [ 52 170 129]\n",
      "  [210 173  52]\n",
      "  [ 19 207 246]\n",
      "  [231 155 231]\n",
      "  [173 146   5]\n",
      "  [125   4  18]\n",
      "  [ 80 111 250]\n",
      "  [160  83  68]]]\n",
      "My RGB matrix as an image\n"
     ]
    },
    {
     "data": {
      "image/png": "[encoded data removed]",
      "text/plain": [
       "<Figure size 640x480 with 1 Axes>"
      ]
     },
     "metadata": {},
     "output_type": "display_data"
    },
    {
     "data": {
      "image/png": "[encoded data removed]",
      "text/plain": [
       "<Figure size 640x480 with 1 Axes>"
      ]
     },
     "metadata": {},
     "output_type": "display_data"
    }
   ],
   "source": [
    "#creating and viewing an RGB matrix (rows (10), columns (10), channels (3))\n",
    "\n",
    "MyRGBMatrix = np.zeros([10,10,3], dtype='uint8')\n",
    "\n",
    "print(MyRGBMatrix.shape)\n",
    "print(f'Matrix type: \\n{MyRGBMatrix.dtype}')\n",
    "\n",
    "MyRGBMatrix = np.random.randint(0, 256, size=MyRGBMatrix.shape, dtype='uint8')\n",
    "\n",
    "print(MyRGBMatrix)\n",
    "\n",
    "print('My RGB matrix as an image')\n",
    "plt.imshow(MyRGBMatrix)\n",
    "plt.show()\n",
    "\n",
    "plt.imshow(MyRGBMatrix, vmin=0, vmax=255)\n",
    "plt.show() # Required to display more than one image\n",
    "\n",
    "# Saving the RGB matrix as an image\n",
    "save_output = Image.fromarray(MyRGBMatrix)\n",
    "save_output.save('MyFirstImage.bmp')\n"
   ]
  },
  {
   "cell_type": "code",
   "execution_count": 3,
   "id": "fc11d92b",
   "metadata": {},
   "outputs": [
    {
     "name": "stdout",
     "output_type": "stream",
     "text": [
      "[[1 2 3]\n",
      " [4 5 6]\n",
      " [7 8 9]]\n",
      "[[10 11 12]\n",
      " [ 3  2  6]\n",
      " [ 0  8  5]]\n",
      "Matrix Addidtion: \n",
      "[[11 13 15]\n",
      " [ 7  7 12]\n",
      " [ 7 16 14]]\n"
     ]
    }
   ],
   "source": [
    "#Some useful matrix operations\n",
    "\n",
    "m1 = np.array([[1,2,3], [4,5,6], [7,8,9]])\n",
    "print(m1)\n",
    "m2 = np.array([[10,11,12], [3,2,6], [0,8,5]])\n",
    "print(m2)\n",
    "\n",
    "m3 = m1 + m2\n",
    "print(f\"Matrix Addidtion: \\n{m3}\")"
   ]
  },
  {
   "cell_type": "code",
   "execution_count": 6,
   "id": "8e819012",
   "metadata": {},
   "outputs": [
    {
     "name": "stdout",
     "output_type": "stream",
     "text": [
      "Original matricies:\n",
      "[[1 2 3]\n",
      " [4 5 6]\n",
      " [7 8 9]]\n",
      "[[10 11 12]\n",
      " [ 3  2  6]\n",
      " [ 0  8  5]]\n",
      "Matrix Scalar Multiplication: \n",
      "[[ 2  4  6]\n",
      " [ 8 10 12]\n",
      " [14 16 18]]\n",
      "Matrix Elementwise Multiplication: \n",
      "[[10 22 36]\n",
      " [12 10 36]\n",
      " [ 0 64 45]]\n",
      "Matrix Dot Product: \n",
      "[[ 16  39  39]\n",
      " [ 55 102 108]\n",
      " [ 94 165 177]]\n"
     ]
    }
   ],
   "source": [
    "# Matrix multiplication\n",
    "\n",
    "print(\"Original matricies:\")\n",
    "print(m1)\n",
    "print(m2)\n",
    "\n",
    "# Scalar multiplication\n",
    "m4 = m1 * 2\n",
    "print(f\"Matrix Scalar Multiplication: \\n{m4}\")\n",
    "\n",
    "elementwise = m1 * m2\n",
    "print(f\"Matrix Elementwise Multiplication: \\n{elementwise}\")\n",
    "\n",
    "dotproduct = np.dot(m1, m2)\n",
    "print(f\"Matrix Dot Product: \\n{dotproduct}\")"
   ]
  },
  {
   "cell_type": "code",
   "execution_count": 10,
   "id": "320caf5d",
   "metadata": {},
   "outputs": [
    {
     "name": "stdout",
     "output_type": "stream",
     "text": [
      "No of dimensions: \n",
      "2\n",
      "Matrix Size: \n",
      "(3, 3)\n",
      "Element Count: \n",
      "9\n",
      "Matrix type: \n",
      "uint8\n"
     ]
    }
   ],
   "source": [
    "#Numpy matrix features\n",
    "m1 = np.array([[1,2,3], [4,5,6], [7,8,9]], dtype='uint8')\n",
    "\n",
    "print(f\"No of dimensions: \\n{m1.ndim}\")\n",
    "print(f\"Matrix Size: \\n{m1.shape}\")\n",
    "print(f\"Element Count: \\n{m1.size}\")\n",
    "print(f\"Matrix type: \\n{m1.dtype}\")"
   ]
  },
  {
   "cell_type": "code",
   "execution_count": 27,
   "id": "8398e959",
   "metadata": {},
   "outputs": [
    {
     "name": "stdout",
     "output_type": "stream",
     "text": [
      "All matrix:\n",
      "[[1 2 3]\n",
      " [4 5 6]\n",
      " [7 8 9]]\n",
      "3rd row of matrix:\n",
      "[7 8 9]\n",
      "2nd column of matrix:\n",
      "[2 5 8]\n",
      "Read form second row onwards:\n",
      "[[4 5 6]\n",
      " [7 8 9]]\n",
      "Read matrix leaving out last row:\n",
      "[[1 2 3]\n",
      " [4 5 6]]\n",
      "Read all rows in reverse order: (Vertical flip)\n",
      "[[7 8 9]\n",
      " [4 5 6]\n",
      " [1 2 3]]\n",
      "Matrix flipped horizontally:\n",
      "[[3 2 1]\n",
      " [6 5 4]\n",
      " [9 8 7]]\n",
      "Matrix flipped vertically and horizontally:\n",
      "[[9 8 7]\n",
      " [6 5 4]\n",
      " [3 2 1]]\n",
      "Change all elements of the matrix above 5 to 0\n",
      "[[1 2 3]\n",
      " [4 5 0]\n",
      " [0 0 0]]\n"
     ]
    }
   ],
   "source": [
    "#Numpy COLON notation\n",
    "m1 = np.array([[1,2,3], [4,5,6], [7,8,9]], dtype='uint8')\n",
    "print(\"All matrix:\")\n",
    "print(m1)\n",
    "\n",
    "print(\"3rd row of matrix:\")\n",
    "print(m1[2,:])\n",
    "\n",
    "print(\"2nd column of matrix:\")\n",
    "print(m1[:,1])\n",
    "\n",
    "print(\"Read form second row onwards:\")\n",
    "print(m1[1:,:])\n",
    "\n",
    "print(\"Read matrix leaving out last row:\")\n",
    "print(m1[:-1,:])\n",
    "\n",
    "print(\"Read all rows in reverse order: (Vertical flip)\")\n",
    "print(m1[::-1,:])\n",
    "\n",
    "print(\"Matrix flipped horizontally:\")\n",
    "print(m1[:,::-1])\n",
    "\n",
    "print(\"Matrix flipped vertically and horizontally:\")\n",
    "print(m1[::-1,::-1])\n",
    "\n",
    "print(\"Change all elements of the matrix above 5 to 0\")\n",
    "m1[m1>5] = 0\n",
    "print(m1)\n"
   ]
  },
  {
   "cell_type": "code",
   "execution_count": 32,
   "id": "7f606762",
   "metadata": {},
   "outputs": [
    {
     "name": "stdout",
     "output_type": "stream",
     "text": [
      "My RGB matrix as an image\n"
     ]
    },
    {
     "data": {
      "image/png": "[encoded data removed]",
      "text/plain": [
       "<Figure size 640x480 with 1 Axes>"
      ]
     },
     "metadata": {},
     "output_type": "display_data"
    },
    {
     "name": "stdout",
     "output_type": "stream",
     "text": [
      "Flip image horizontally\n"
     ]
    },
    {
     "data": {
      "text/plain": [
       "<matplotlib.image.AxesImage at 0x18b71cf3950>"
      ]
     },
     "execution_count": 32,
     "metadata": {},
     "output_type": "execute_result"
    },
    {
     "data": {
      "image/png": "[encoded data removed]",
      "text/plain": [
       "<Figure size 640x480 with 1 Axes>"
      ]
     },
     "metadata": {},
     "output_type": "display_data"
    }
   ],
   "source": [
    "MyRGBMatrix = np.random.randint(0, 256, size=(10, 10, 3), dtype='uint8')\n",
    "\n",
    "print('My RGB matrix as an image')\n",
    "plt.imshow(MyRGBMatrix)\n",
    "plt.show()\n",
    "\n",
    "print('Flip image horizontally')\n",
    "plt.imshow(MyRGBMatrix[:, ::-1, :])\n"
   ]
  }
 ],
 "metadata": {
  "kernelspec": {
   "display_name": "ipcv",
   "language": "python",
   "name": "python3"
  },
  "language_info": {
   "codemirror_mode": {
    "name": "ipython",
    "version": 3
   },
   "file_extension": ".py",
   "mimetype": "text/x-python",
   "name": "python",
   "nbconvert_exporter": "python",
   "pygments_lexer": "ipython3",
   "version": "3.12.3"
  }
 },
 "nbformat": 4,
 "nbformat_minor": 5
}

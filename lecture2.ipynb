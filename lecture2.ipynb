{
 "cells": [
  {
   "cell_type": "code",
   "execution_count": 1,
   "id": "d81aa532",
   "metadata": {},
   "outputs": [],
   "source": [
    "import numpy as np\n",
    "import matplotlib.pyplot as plt\n",
    "from PIL import Image\n",
    "import cv2"
   ]
  },
  {
   "cell_type": "markdown",
   "id": "44d200b7",
   "metadata": {},
   "source": [
    "1. Binary    -> 2D Matrix Binary (Boolean)\n",
    "2. Grayscale -> 2D Matrix uint8\n",
    "3. Color     -> 3D Matrix uint8"
   ]
  },
  {
   "cell_type": "code",
   "execution_count": 13,
   "id": "362e75da",
   "metadata": {},
   "outputs": [
    {
     "name": "stdout",
     "output_type": "stream",
     "text": [
      "[[False False False ... False False False]\n",
      " [False False False ... False False False]\n",
      " [False False False ... False False False]\n",
      " ...\n",
      " [False False False ... False False False]\n",
      " [False False False ... False False False]\n",
      " [False False False ... False False False]]\n"
     ]
    },
    {
     "data": {
      "image/png": "[encoded data removed]",
      "text/plain": [
       "<Figure size 640x480 with 1 Axes>"
      ]
     },
     "metadata": {},
     "output_type": "display_data"
    }
   ],
   "source": [
    "image = np.zeros((32, 128), dtype=bool)\n",
    "print(image)\n",
    "rows_center = image.shape[0] // 2\n",
    "columns_center = image.shape[1] // 2\n",
    "\n",
    "image[rows_center, columns_center] = True\n",
    "plt.imshow(image, cmap='binary')\n",
    "plt.show()"
   ]
  },
  {
   "cell_type": "code",
   "execution_count": 15,
   "id": "f0256dc7",
   "metadata": {},
   "outputs": [
    {
     "name": "stdout",
     "output_type": "stream",
     "text": [
      "[[0 0 0 ... 0 0 0]\n",
      " [0 0 0 ... 0 0 0]\n",
      " [0 0 0 ... 0 0 0]\n",
      " ...\n",
      " [0 0 0 ... 0 0 0]\n",
      " [0 0 0 ... 0 0 0]\n",
      " [0 0 0 ... 0 0 0]]\n"
     ]
    },
    {
     "data": {
      "image/png": "[encoded data removed]",
      "text/plain": [
       "<Figure size 640x480 with 1 Axes>"
      ]
     },
     "metadata": {},
     "output_type": "display_data"
    }
   ],
   "source": [
    "#Generate a 32 column by 128 column matrix as a greyscale image. Change the centre pixel to 255.\n",
    "\n",
    "image = np.zeros((32, 128), dtype='uint8')\n",
    "print(image)\n",
    "rows_center = image.shape[0] // 2\n",
    "columns_center = image.shape[1] // 2\n",
    "\n",
    "image[rows_center, columns_center] = 255\n",
    "plt.imshow(image, cmap='gray')\n",
    "plt.show()"
   ]
  },
  {
   "cell_type": "code",
   "execution_count": null,
   "id": "267696d2",
   "metadata": {},
   "outputs": [],
   "source": [
    "#Generate a 32 column by 128 column matrix as an RGB image. Change the centre pixel td RED.\n",
    "\n",
    "image = np.zeros((32, 128, 3), dtype='uint8')\n",
    "print(image)\n",
    "rows_center = image.shape[0] // 2\n",
    "columns_center = image.shape[1] // 2\n",
    "\n",
    "image[rows_center, columns_center] = [255, 0, 0]\n",
    "plt.imshow(image)\n",
    "plt.show()"
   ]
  }
 ],
 "metadata": {
  "kernelspec": {
   "display_name": "ipcv",
   "language": "python",
   "name": "python3"
  },
  "language_info": {
   "codemirror_mode": {
    "name": "ipython",
    "version": 3
   },
   "file_extension": ".py",
   "mimetype": "text/x-python",
   "name": "python",
   "nbconvert_exporter": "python",
   "pygments_lexer": "ipython3",
   "version": "3.12.3"
  }
 },
 "nbformat": 4,
 "nbformat_minor": 5
}
